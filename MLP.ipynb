{
 "cells": [
  {
   "cell_type": "code",
   "execution_count": 2,
   "id": "55cda30b",
   "metadata": {
    "scrolled": true
   },
   "outputs": [
    {
     "name": "stderr",
     "output_type": "stream",
     "text": [
      "C:\\Users\\Surisetty\\anaconda3\\lib\\site-packages\\scipy\\__init__.py:146: UserWarning: A NumPy version >=1.16.5 and <1.23.0 is required for this version of SciPy (detected version 1.23.4\n",
      "  warnings.warn(f\"A NumPy version >={np_minversion} and <{np_maxversion}\"\n"
     ]
    },
    {
     "name": "stdout",
     "output_type": "stream",
     "text": [
      "(320, 2)\n",
      "                                              Judgment  Judgment Status\n",
      "Id                                                                     \n",
      "1    appeal judgment decre bombay high court stone ...                1\n",
      "2    applic articl 32 1 constitut enforc applic fun...                2\n",
      "3    appeal judgment high court hyderabad articl 37...                0\n",
      "4    appeal articl 3744 constitut judgment decre hi...                0\n",
      "5    petit art 136 constitut pray special leav appe...                3\n",
      "..                                                 ...              ...\n",
      "316  1 revision applic instanc defend state orissa ...                1\n",
      "317  1 writ petit taken question valid decis nagaon...                3\n",
      "318  saptangshu basu senior advoc mr partha basu mr...                3\n",
      "319  mr arunava ghosh mr supriya ranjan saha advoc ...                3\n",
      "320  introduct whether seat parliament legislatur s...                1\n",
      "\n",
      "[320 rows x 2 columns]\n"
     ]
    }
   ],
   "source": [
    "import pandas as pd\n",
    "import string\n",
    "from nltk.corpus import stopwords\n",
    "from nltk.stem import PorterStemmer\n",
    "\n",
    "stop = list(stopwords.words('english'))\n",
    "new_stop=['(',',','.','..','\"',')','>','’','<','“','/','?']\n",
    "stop.extend(new_stop)\n",
    "\n",
    "porter = PorterStemmer()\n",
    "\n",
    "URL_DATA = 'Dataset.xlsx'\n",
    "\n",
    "\n",
    "def remove_punctuation(description):\n",
    "    \"\"\"Function to remove punctuation\"\"\"\n",
    "    table = str.maketrans('', '', string.punctuation)\n",
    "    return description.translate(table)\n",
    "\n",
    "\n",
    "def remove_stopwords(text):\n",
    "    \"\"\"Function to removing stopwords\"\"\"\n",
    "    text = [word.lower() for word in text.split() if word.lower() not in stop]\n",
    "    return \" \".join(text)\n",
    "\n",
    "\n",
    "def stemmer(stem_text):\n",
    "    \"\"\"Function to apply stemming\"\"\"\n",
    "    stem_text = [porter.stem(word) for word in stem_text.split()]\n",
    "    return \" \".join(stem_text)\n",
    "\n",
    "\n",
    "def read_data(path):\n",
    "    \"\"\"Function to read and clean text data\"\"\"\n",
    "    data = pd.read_excel(path, header=0, index_col=0)\n",
    "    data = data[['Judgment','Judgment Status']].copy()\n",
    "    data['Judgment'] = data['Judgment'].astype(str)\n",
    "    data['Judgment'] = data['Judgment'].apply(remove_punctuation)\n",
    "    data['Judgment'] = data['Judgment'].apply(remove_stopwords)\n",
    "    data['Judgment'] = data['Judgment'].apply(stemmer)\n",
    "    return data\n",
    "\n",
    "\n",
    "if __name__ == '__main__':\n",
    "    dataset = read_data(URL_DATA)\n",
    "    print(dataset.shape)\n",
    "    print(dataset)\n",
    "    dataset.to_csv('New Data.csv',encoding='utf-8')"
   ]
  },
  {
   "cell_type": "code",
   "execution_count": 3,
   "id": "39f40e3f",
   "metadata": {},
   "outputs": [],
   "source": [
    "import numpy as np\n",
    "import pandas as pd\n",
    "import matplotlib.pyplot as plt\n",
    "%matplotlib inline\n",
    "\n",
    "from sklearn.model_selection import train_test_split\n",
    "from sklearn.preprocessing import LabelBinarizer, LabelEncoder\n",
    "from sklearn.metrics import confusion_matrix\n",
    "\n",
    "import tensorflow as tf\n",
    "from tensorflow import keras\n",
    "from keras.models import Sequential\n",
    "from keras.layers import Dense, Flatten, Activation, Dropout, GlobalMaxPool1D, Conv1D\n",
    "from tensorflow.keras.layers import Embedding\n",
    "from keras.preprocessing import text, sequence\n",
    "from keras.preprocessing.text import Tokenizer\n",
    "from keras_preprocessing.sequence import pad_sequences\n",
    "from keras import utils"
   ]
  },
  {
   "cell_type": "code",
   "execution_count": 4,
   "id": "3b7ca5c5",
   "metadata": {},
   "outputs": [
    {
     "data": {
      "text/html": [
       "<div>\n",
       "<style scoped>\n",
       "    .dataframe tbody tr th:only-of-type {\n",
       "        vertical-align: middle;\n",
       "    }\n",
       "\n",
       "    .dataframe tbody tr th {\n",
       "        vertical-align: top;\n",
       "    }\n",
       "\n",
       "    .dataframe thead th {\n",
       "        text-align: right;\n",
       "    }\n",
       "</style>\n",
       "<table border=\"1\" class=\"dataframe\">\n",
       "  <thead>\n",
       "    <tr style=\"text-align: right;\">\n",
       "      <th></th>\n",
       "      <th>Judgment</th>\n",
       "      <th>Judgment Status</th>\n",
       "    </tr>\n",
       "    <tr>\n",
       "      <th>Id</th>\n",
       "      <th></th>\n",
       "      <th></th>\n",
       "    </tr>\n",
       "  </thead>\n",
       "  <tbody>\n",
       "    <tr>\n",
       "      <th>1</th>\n",
       "      <td>appeal judgment decre bombay high court stone ...</td>\n",
       "      <td>1</td>\n",
       "    </tr>\n",
       "    <tr>\n",
       "      <th>2</th>\n",
       "      <td>applic articl 32 1 constitut enforc applic fun...</td>\n",
       "      <td>2</td>\n",
       "    </tr>\n",
       "    <tr>\n",
       "      <th>3</th>\n",
       "      <td>appeal judgment high court hyderabad articl 37...</td>\n",
       "      <td>0</td>\n",
       "    </tr>\n",
       "    <tr>\n",
       "      <th>4</th>\n",
       "      <td>appeal articl 3744 constitut judgment decre hi...</td>\n",
       "      <td>0</td>\n",
       "    </tr>\n",
       "    <tr>\n",
       "      <th>5</th>\n",
       "      <td>petit art 136 constitut pray special leav appe...</td>\n",
       "      <td>3</td>\n",
       "    </tr>\n",
       "  </tbody>\n",
       "</table>\n",
       "</div>"
      ],
      "text/plain": [
       "                                             Judgment  Judgment Status\n",
       "Id                                                                    \n",
       "1   appeal judgment decre bombay high court stone ...                1\n",
       "2   applic articl 32 1 constitut enforc applic fun...                2\n",
       "3   appeal judgment high court hyderabad articl 37...                0\n",
       "4   appeal articl 3744 constitut judgment decre hi...                0\n",
       "5   petit art 136 constitut pray special leav appe...                3"
      ]
     },
     "execution_count": 4,
     "metadata": {},
     "output_type": "execute_result"
    }
   ],
   "source": [
    "df = pd.read_csv('New Data.csv', header=0,index_col=0)\n",
    "df.head()"
   ]
  },
  {
   "cell_type": "code",
   "execution_count": 5,
   "id": "edec54d9",
   "metadata": {},
   "outputs": [],
   "source": [
    "sentences = df['Judgment']\n",
    "y = df['Judgment Status']\n",
    "\n",
    "from sklearn.model_selection import train_test_split\n",
    "\n",
    "sentences_train, sentences_test, train_y, test_y = train_test_split(sentences, y, test_size=0.25, random_state=42)"
   ]
  },
  {
   "cell_type": "code",
   "execution_count": 6,
   "id": "d90132c3",
   "metadata": {
    "scrolled": false
   },
   "outputs": [
    {
     "name": "stdout",
     "output_type": "stream",
     "text": [
      "applic articl 32 1 constitut enforc applic funda mental right carri busi guarante articl 19 1 constitut fact case appear judgment nuruddin petition radhel agarwala opposit parti mc setalvad attorneygener india sikri union india pearyl banerji advocategener shri ram state uttar pradesh 1950 may 19 judgment court deliv da ji read judgment court applic articl 32 constitu tion india made rashid ahm enforc fundament right carri busi said complet stop respond munici pal board kairana fact shortli follow petition aratia commiss agent carri wholesal busi veget fruit kairana district muzaffarnagar 568 state uttar pradesh carri busi ness last two year rent shop bazar jama masjid town kairana recent byelaw respond board regul sale veget fruit within limit municip march 1949 respond board publish certain propos bye law made section 298 munic ipal act 1916 byelaw pass respond board 19th april 1949 confirma tion commission byelaw came oper 1st januari 1950 anticip new byelaw come effect respond board 21st may 1949 auction contract wholesal vegeta ble presum mean therebi monopoli right wholesal busi veget contract given one habib ahmad highest bidder three year rs 72750 payabl equal quarterli instal advanc 31st decemb 1949 respond board notifi place near polic post imam market wholesal purchas sale veget fruit petition appli licens carri wholesal aratia busi shop 22nd decemb 1949 respond board resolut 188 reject petition applic decis commun petition 9th februari 1950 order chairman respond board term accord resolut 188 date 221249 applica tion mr rashid ahm reject inform accordingli reason assign respond board resolut reject petition applic inform learn advoc respond board applic reject byelaw entertain applic grant licens pray fact respond board alreadi auction contract habib ahmad might conceiv bear refus grant licens petition mean time 28th 569 januari 1950 notic serv petition follow term herebi inform municip board kairana given contract wholesal purchas sale veget forc 1st day januari 1950 repeatedli promulg citi beat drum khakrob sweeper except contractor veget municip board kairana nobodi shall deal wholesal purchas sale veget place one approv municip board aforesaid ie place near polic post imam first place kept sell veget wholesal hous near jama masjid otherwis known qaziwala despit occasion verbal warn requir desist therefrom convey employe board failur compli warn notic write date 3rd januari 1950 notic duli serv still paid heed accordingli complaint lodg byelaw quot court pargana offic tahsil kairana complaint still pend sell wholesal auction veget anoth place jama masjid bazar thoroughfar conduct unlaw contravent municip board byelaw 2 pertain veget contract moreov highli prejudici interest contractor board warn notic serv ceas sell veget breach byelaw mention herein fail notic rather disingenu sug gest everybodi deal wholesal purchas sale veget place approv board ie place near polic post imam fact told learn advoc respond board entir contrari 570 contractor habib ahmad carri wholesal busi place posit therefor petition cannot wholesal busi either appoint market shop admit tedli wholesal busi two year prior byelaw come forc short petition busi wholli stop prosecut alleg breach byelaw notic head notic byelaw 2 byelaw pertain contract veget byelaw 2 run thu person shall establish new market place wholesal transact without obtain previou per mission board person shall sell expos sale veget fruit etc place fix board purpos second part byelaw clearli contem plate everybodi entitl busi place fix respond board result monopoli favour contractor habib ahmad creat nobodi els busi place conced learn advoc respond board first part byelaw person establish new market place wholesal transact without obtain permiss respond board part byelaw clearli contempl board may permit establish new market wholesal deal veget petition appli permiss refus byelaw 2 still forc requir licens section 241 2a respond board cannot refus licens except ground place market shop estab lish fail compli condit prescrib act conced reject petition applic base ground byelaw authoris issu licens constitut articl 19 1 guarante 571 indian citizen right carri trade busi ness subject reason restrict men tion claus 6 articl posit howev er byelaw 2 provid person shall establish market wholesal transact veget except permiss board byelaw authoris respond board issu licens nett result prohibit byelaw absenc provis issu li cens becom absolut byelaw 4 contempl grant monopoli contractor deal wholesal transact place fix market act upon provis respond board grant monopoli habib ahmad put power grant licens petition carri wholesal busi veget either fix market place place within municip limit kairana certainli much reason restrict petition contempl claus 6 articl 19 posit byelaw would void articl 13 1of constitut hand byelaw requir petition take licens justif respond board stop petition busi prosecut learn counsel respond board faintli con tend byelaw come forc 1st januari 1950 ie constitut came forc petition longer right continu busi therefor case govern articl 19 1 g substanc argument sound articl 19 1 g would protect person carri busi constitu tion came forc learn advocategener uttar pradesh appear interven drew attent section 318 municipalti act 1916 submit peti tioner adequ remedi way appeal court grant writ natur prerog writ mandamu 572 certiorari question exist adequ legal remedi thing taken consider matter grant writ power given court articl 32 much wider confin issu prerog writ respond board admittedli put power grant licens regard fact specif byelaw authoris issu licens consid appeal section 318 local govern sanction byelaw circumst case adequ legal remedi satisfi case petition fundament right infring entitl grievanc redress proper order circumst would direct respond board prohibit petition carri trade whole sale dealer commiss agent veget fruit within limit municip board kairana except accord byelaw frame futur accord law direct respond munic ipal board withdraw pend prosecut peti tioner order accordingli respond pay cost petition agent petition naunitl agent opposit parti tarachand brijmohanl agent union india pa mehta agent uttar pradesh tarachand brijmohanl\n",
      "[8, 33, 38, 20, 467, 247, 558, 240, 9, 1, 8, 9587, 370, 154, 33, 38, 20, 636, 9588, 1, 2755, 606, 119, 35, 1112, 386, 3437, 196, 101, 1307, 272, 1147, 9589, 504, 9590, 779, 7196, 6, 148, 1789, 948, 49, 658, 4664, 202, 223, 3635, 15, 1996, 487, 617, 33, 1, 405, 1197, 148, 2659, 6, 69, 120, 167, 354, 142, 167, 3, 3101, 2972, 766, 2560, 161, 413, 76, 414, 120, 3437, 1022, 840, 92, 9591, 9592, 1086, 1749, 9593, 727, 3636, 1355, 701, 142, 26, 766, 161, 15, 455, 1113, 41, 240, 190, 414, 3, 3907, 1023, 702, 3907, 770, 204, 2466, 240, 414, 5990, 3, 1148, 1023, 5186, 1148, 482, 1213, 400, 428, 240, 1149, 414, 1113, 3, 400, 1023, 9594, 400, 99, 549, 19, 2229, 15, 550, 41, 240, 674, 780, 2972, 2560, 161, 76, 120, 2660, 751, 240, 84, 103, 27, 280, 176, 2056, 490, 45, 674, 632, 26, 84, 659, 15, 45, 178, 770, 54, 1635, 1823, 84, 103, 27, 280, 176, 280, 197, 45, 395, 770, 9595, 84, 1823, 280, 197, 103, 109, 280, 197, 201, 43, 84, 632, 600, 174, 447, 2, 1824, 240, 190, 414, 3, 3907, 85, 199, 177, 196, 5, 7, 41, 462, 77, 163, 414, 118, 559, 155, 126, 1945, 223, 550, 67, 492, 174, 462, 247, 2661, 415, 114, 3, 84, 174, 2, 2168, 1356, 324, 590, 84, 414, 59, 674, 9596, 1357, 170, 2973, 3268, 2756, 104, 55, 84, 138, 156, 747, 826, 241, 50, 390, 675, 1099, 680, 997, 19, 108, 2, 1945, 2057, 300, 6, 808, 2972, 26, 2560, 161, 6, 77, 175, 26, 84, 2169, 186, 151, 759, 79, 15, 6, 429, 9597, 42, 101, 1, 119, 35, 1112, 386, 3437, 101, 1307, 272, 15, 277, 674, 1790, 26, 84, 99, 549, 19, 2229, 1100, 513, 1823, 447, 84, 99, 81, 770, 54, 1635, 770, 217, 781, 1100, 513, 1198, 44, 45, 659, 372, 674, 1790, 1823, 632, 26, 337, 84, 1100, 513, 1825, 1399, 949, 1199, 1867, 140, 674, 801, 1568, 1823, 26, 84, 707, 6, 93, 84, 632, 325, 101, 147, 33, 20, 636, 874, 370, 115, 1, 32, 26, 84, 2230, 674, 415, 1568, 1823, 493, 1635, 781, 513, 1825, 1399, 101, 207, 3, 41, 15, 115, 1, 38, 101, 66, 86, 1199, 1867, 15, 674, 801, 632, 84, 1823, 447, 44, 38, 15, 707, 375, 103, 9598, 147, 325, 15, 468, 8, 6, 42, 1709, 156, 9, 1, 33, 38, 20, 467, 247, 558, 2307, 1087, 33, 115, 1, 145, 101, 6, 325, 1675, 6, 1709, 156, 12, 145, 482, 247, 558, 9, 1, 124, 244, 6, 8, 1, 26, 33, 488, 318, 8, 18, 288, 337, 84, 81, 95, 551, 8, 10, 415, 84, 532, 610, 1358, 731, 319, 2467, 433, 41, 49, 3, 1605, 950, 84, 6, 767, 265, 52, 610, 2058, 34, 93, 84, 57, 9599, 41, 49, 3, 1605, 1750, 103, 1182, 280, 2468, 95, 500, 1494, 130, 703, 532, 130, 6, 8, 1826, 962, 195, 95, 551, 130, 249, 8, 3908, 2756, 2561, 310, 519, 5187, 771, 1569, 472, 295, 88, 414, 242, 138, 84, 415, 447, 7197, 24, 97, 6, 551, 88, 234, 1569, 414, 9600, 9601, 9602, 437, 3, 346, 414, 415, 84, 362, 89, 267, 121, 84, 2974, 1569, 205, 57, 67, 249, 62, 128, 330, 9, 1, 376, 135, 81, 71, 88, 414, 57, 1750, 88, 1149, 310, 414, 57, 415, 84, 3909, 121, 84, 1149, 310, 59, 415, 511, 71, 1824, 560, 414, 415, 84, 492, 174, 114, 3, 643, 771, 1359, 60, 414, 170, 2973, 2757, 2231, 3, 84, 34, 674, 414, 2170, 114, 114, 104, 371, 414, 674, 84, 186, 2171, 492, 174, 1307, 64, 16, 1710, 52, 1236, 2168, 162, 414, 81, 162, 174, 2, 414, 77, 28, 660, 69, 1997, 3269, 156, 415, 5991, 84, 1214, 970, 2172, 3908, 123, 238, 1905, 162, 414, 1418, 566, 5188, 1868, 16, 2116, 78, 1868, 447, 970, 2173, 3908, 2174, 580, 414, 16, 415, 84, 1101, 372, 590, 162, 1359, 60, 267, 84, 415, 74, 73, 137, 162, 1359, 3, 601, 71, 591, 45, 292, 448, 224, 3637, 3638, 57, 1040, 4, 970, 1125, 1711, 1360, 772, 5189, 332, 438, 752, 138, 84, 414, 560, 415, 318, 1149, 310, 1162, 5187, 283, 414, 84, 88, 414, 1024, 525, 11, 199, 747, 9603, 142, 241, 3, 5992, 748, 681, 9604, 148, 3270, 826, 9605, 462, 100, 826, 46, 241, 826, 295, 241, 52, 9606, 826, 295, 241, 1946, 1569, 199, 295, 573, 826, 295, 241, 826, 295, 241, 5190, 187, 826, 46, 241, 1676, 23, 34, 52, 826, 46, 241, 89, 526, 95, 39, 1088, 573, 520, 826, 295, 241, 500, 303, 95, 81, 214, 80, 1569, 295, 67, 998, 77, 172, 2561, 110, 337, 2, 987, 224, 592, 1636, 3639, 414, 55, 415, 84, 310, 57, 111, 26, 5187, 34, 1569, 88, 415, 84, 57, 3271, 998, 788, 120, 1569, 295, 771, 600, 95, 551, 24, 97, 6, 5993, 2756, 3908, 1823, 447, 84, 1635, 781, 513, 414, 88, 240, 414, 5990, 3, 1148, 125, 24, 97, 6, 33, 8, 1751, 288, 1823, 57, 249, 9607, 3, 2, 669, 55, 88, 1712, 9608, 126, 3268, 913, 2175, 9609, 9610, 670, 2, 313, 84, 2117, 414, 16, 392, 394, 85, 108, 85, 108, 223, 670, 2, 2386, 43, 379, 73, 1712, 1102, 2175, 313, 84, 1712, 1114, 5994, 45, 449, 84, 27, 28, 740, 2231, 137, 1790, 84, 50, 153, 293, 16, 1545, 1103, 1869, 84, 1545, 1114, 9611, 45, 449, 84, 52, 11, 1947, 419, 104, 150, 88, 1712, 913, 2175, 313, 84, 580, 104, 1102, 455, 2, 104, 1712, 2175, 653, 638, 1870, 1947, 419, 125, 197, 578, 104, 150, 2, 332, 3102, 9612, 3103, 84, 519, 1163, 52, 11, 2662, 100, 104, 1102, 913, 77, 782, 532, 2469, 1823, 81, 71, 1947, 419, 57, 363, 292, 773, 150, 455, 2, 394, 260, 3910, 387, 206, 2975, 121, 84, 240, 14, 3640, 3438, 602, 240, 19, 511, 71, 1200, 438, 3270, 240, 190, 414, 3, 1023, 702, 3907, 4665, 21, 414, 150, 104, 913, 104, 1712, 2175, 2, 1713, 1945, 240, 414, 5990, 3, 1148, 445, 3911, 104, 913, 2470, 104, 1102, 1030, 1947, 419, 146, 104, 913, 1041, 104, 1102, 1059, 5995, 104, 1102, 245, 913, 59, 95, 1149, 310, 1041, 104, 913, 104, 1102, 774, 74, 11, 114, 114, 59, 150, 208, 2387, 2059, 211, 1870, 12, 752, 1114, 2, 1307, 3, 12, 52, 1103, 393, 1568, 93, 415, 77, 638, 104, 1102, 150, 3, 2562, 260, 149, 16, 1103, 393, 1568, 52, 16, 12, 11, 36, 1, 8, 1215, 4, 9613, 14, 177, 5996, 4666, 167, 164, 27, 1103, 125, 9614, 504, 33, 143, 5997, 1216, 1114, 104, 720, 21, 40, 99, 1114, 1637, 2060, 28, 110, 2470, 104, 913, 2758, 104, 1102, 455, 1945, 3, 158, 385, 332, 286, 66, 310, 9615, 692, 2, 9, 1, 31, 653, 95, 551, 8, 73, 7, 8, 74, 145, 325]\n"
     ]
    }
   ],
   "source": [
    "tokenize = Tokenizer(num_words=10000)\n",
    "tokenize.fit_on_texts(sentences_train)\n",
    "\n",
    "train_X = tokenize.texts_to_sequences(sentences_train)\n",
    "test_X = tokenize.texts_to_sequences(sentences_test)\n",
    "\n",
    "vocab_size = len(tokenize.word_index) + 1  \n",
    "\n",
    "print(sentences_train[2])\n",
    "print(train_X[0])"
   ]
  },
  {
   "cell_type": "code",
   "execution_count": 7,
   "id": "cf2f8a59",
   "metadata": {},
   "outputs": [],
   "source": [
    "X_train = pad_sequences(train_X, padding='post', maxlen=1000)  \n",
    "X_test = pad_sequences(test_X, padding='post', maxlen=1000)"
   ]
  },
  {
   "cell_type": "code",
   "execution_count": 24,
   "id": "0561c765",
   "metadata": {},
   "outputs": [
    {
     "name": "stdout",
     "output_type": "stream",
     "text": [
      "Model: \"sequential_4\"\n",
      "_________________________________________________________________\n",
      " Layer (type)                Output Shape              Param #   \n",
      "=================================================================\n",
      " embedding_4 (Embedding)     (None, 1000, 16)          275552    \n",
      "                                                                 \n",
      " flatten_4 (Flatten)         (None, 16000)             0         \n",
      "                                                                 \n",
      " dense_12 (Dense)            (None, 256)               4096256   \n",
      "                                                                 \n",
      " dense_13 (Dense)            (None, 128)               32896     \n",
      "                                                                 \n",
      " dense_14 (Dense)            (None, 4)                 516       \n",
      "                                                                 \n",
      "=================================================================\n",
      "Total params: 4,405,220\n",
      "Trainable params: 4,405,220\n",
      "Non-trainable params: 0\n",
      "_________________________________________________________________\n"
     ]
    }
   ],
   "source": [
    "embedding_dim = 16\n",
    "maxlen=1000\n",
    "model = Sequential()\n",
    "model.add(Embedding(input_dim=vocab_size, output_dim=embedding_dim, input_length=maxlen))\n",
    "model.add(Flatten())\n",
    "model.add(Dense(256, activation='relu'))\n",
    "model.add(Dense(128, activation='relu'))\n",
    "model.add(Dense(4, activation='softmax'))\n",
    "\n",
    "model.compile(optimizer='adam',\n",
    "              loss='sparse_categorical_crossentropy',\n",
    "              metrics=['accuracy'])\n",
    "model.summary()"
   ]
  },
  {
   "cell_type": "code",
   "execution_count": 25,
   "id": "25712d55",
   "metadata": {},
   "outputs": [
    {
     "name": "stdout",
     "output_type": "stream",
     "text": [
      "Epoch 1/100\n",
      "8/8 [==============================] - 1s 57ms/step - loss: 1.3602 - accuracy: 0.4083 - val_loss: 1.3730 - val_accuracy: 0.2875\n",
      "Epoch 2/100\n",
      "8/8 [==============================] - 0s 35ms/step - loss: 0.8167 - accuracy: 0.8042 - val_loss: 1.3190 - val_accuracy: 0.3875\n",
      "Epoch 3/100\n",
      "8/8 [==============================] - 0s 35ms/step - loss: 0.3578 - accuracy: 0.9292 - val_loss: 1.4090 - val_accuracy: 0.3500\n",
      "Epoch 4/100\n",
      "8/8 [==============================] - 0s 34ms/step - loss: 0.1224 - accuracy: 0.9750 - val_loss: 1.4058 - val_accuracy: 0.4000\n",
      "Epoch 5/100\n",
      "8/8 [==============================] - 0s 34ms/step - loss: 0.0381 - accuracy: 0.9875 - val_loss: 1.6779 - val_accuracy: 0.3750\n",
      "Epoch 6/100\n",
      "8/8 [==============================] - 0s 36ms/step - loss: 0.0137 - accuracy: 1.0000 - val_loss: 1.5459 - val_accuracy: 0.4375\n",
      "Epoch 7/100\n",
      "8/8 [==============================] - 0s 34ms/step - loss: 0.0179 - accuracy: 0.9917 - val_loss: 1.5978 - val_accuracy: 0.3625\n",
      "Epoch 8/100\n",
      "8/8 [==============================] - 0s 37ms/step - loss: 0.0020 - accuracy: 1.0000 - val_loss: 1.5477 - val_accuracy: 0.3750\n",
      "Epoch 9/100\n",
      "8/8 [==============================] - 0s 40ms/step - loss: 0.0014 - accuracy: 1.0000 - val_loss: 1.6277 - val_accuracy: 0.3625\n",
      "Epoch 10/100\n",
      "8/8 [==============================] - 0s 36ms/step - loss: 6.3461e-04 - accuracy: 1.0000 - val_loss: 1.7280 - val_accuracy: 0.3500\n",
      "Epoch 11/100\n",
      "8/8 [==============================] - 0s 37ms/step - loss: 4.9670e-04 - accuracy: 1.0000 - val_loss: 1.7390 - val_accuracy: 0.3500\n",
      "Epoch 12/100\n",
      "8/8 [==============================] - 0s 36ms/step - loss: 3.2021e-04 - accuracy: 1.0000 - val_loss: 1.7003 - val_accuracy: 0.3375\n",
      "Epoch 13/100\n",
      "8/8 [==============================] - 0s 34ms/step - loss: 2.4127e-04 - accuracy: 1.0000 - val_loss: 1.6823 - val_accuracy: 0.3250\n",
      "Epoch 14/100\n",
      "8/8 [==============================] - 0s 38ms/step - loss: 2.1926e-04 - accuracy: 1.0000 - val_loss: 1.6810 - val_accuracy: 0.3125\n",
      "Epoch 15/100\n",
      "8/8 [==============================] - 0s 37ms/step - loss: 2.0147e-04 - accuracy: 1.0000 - val_loss: 1.6878 - val_accuracy: 0.3125\n",
      "Epoch 16/100\n",
      "8/8 [==============================] - 0s 45ms/step - loss: 1.8257e-04 - accuracy: 1.0000 - val_loss: 1.6977 - val_accuracy: 0.3125\n",
      "Epoch 17/100\n",
      "8/8 [==============================] - 0s 34ms/step - loss: 1.6646e-04 - accuracy: 1.0000 - val_loss: 1.7081 - val_accuracy: 0.3375\n",
      "Epoch 18/100\n",
      "8/8 [==============================] - 0s 35ms/step - loss: 1.5477e-04 - accuracy: 1.0000 - val_loss: 1.7184 - val_accuracy: 0.3500\n",
      "Epoch 19/100\n",
      "8/8 [==============================] - 0s 37ms/step - loss: 1.4405e-04 - accuracy: 1.0000 - val_loss: 1.7265 - val_accuracy: 0.3625\n",
      "Epoch 20/100\n",
      "8/8 [==============================] - 0s 40ms/step - loss: 1.3538e-04 - accuracy: 1.0000 - val_loss: 1.7309 - val_accuracy: 0.3625\n",
      "Epoch 21/100\n",
      "8/8 [==============================] - 0s 48ms/step - loss: 1.2791e-04 - accuracy: 1.0000 - val_loss: 1.7375 - val_accuracy: 0.3750\n",
      "Epoch 22/100\n",
      "8/8 [==============================] - 0s 46ms/step - loss: 1.2017e-04 - accuracy: 1.0000 - val_loss: 1.7384 - val_accuracy: 0.3750\n",
      "Epoch 23/100\n",
      "8/8 [==============================] - 0s 42ms/step - loss: 1.1445e-04 - accuracy: 1.0000 - val_loss: 1.7459 - val_accuracy: 0.3750\n",
      "Epoch 24/100\n",
      "8/8 [==============================] - 0s 38ms/step - loss: 1.0672e-04 - accuracy: 1.0000 - val_loss: 1.7490 - val_accuracy: 0.3750\n",
      "Epoch 25/100\n",
      "8/8 [==============================] - 0s 40ms/step - loss: 1.0285e-04 - accuracy: 1.0000 - val_loss: 1.7468 - val_accuracy: 0.3750\n",
      "Epoch 26/100\n",
      "8/8 [==============================] - 0s 40ms/step - loss: 9.5767e-05 - accuracy: 1.0000 - val_loss: 1.7518 - val_accuracy: 0.3750\n",
      "Epoch 27/100\n",
      "8/8 [==============================] - 0s 36ms/step - loss: 9.0385e-05 - accuracy: 1.0000 - val_loss: 1.7557 - val_accuracy: 0.3750\n",
      "Epoch 28/100\n",
      "8/8 [==============================] - 0s 39ms/step - loss: 8.6190e-05 - accuracy: 1.0000 - val_loss: 1.7626 - val_accuracy: 0.3875\n",
      "Epoch 29/100\n",
      "8/8 [==============================] - 0s 37ms/step - loss: 8.2583e-05 - accuracy: 1.0000 - val_loss: 1.7635 - val_accuracy: 0.3750\n",
      "Epoch 30/100\n",
      "8/8 [==============================] - 0s 36ms/step - loss: 7.8636e-05 - accuracy: 1.0000 - val_loss: 1.7680 - val_accuracy: 0.3750\n",
      "Epoch 31/100\n",
      "8/8 [==============================] - 0s 36ms/step - loss: 7.5035e-05 - accuracy: 1.0000 - val_loss: 1.7705 - val_accuracy: 0.3750\n",
      "Epoch 32/100\n",
      "8/8 [==============================] - 0s 40ms/step - loss: 7.1612e-05 - accuracy: 1.0000 - val_loss: 1.7747 - val_accuracy: 0.3750\n",
      "Epoch 33/100\n",
      "8/8 [==============================] - 0s 36ms/step - loss: 6.9147e-05 - accuracy: 1.0000 - val_loss: 1.7765 - val_accuracy: 0.3750\n",
      "Epoch 34/100\n",
      "8/8 [==============================] - 0s 37ms/step - loss: 6.6061e-05 - accuracy: 1.0000 - val_loss: 1.7791 - val_accuracy: 0.3750\n",
      "Epoch 35/100\n",
      "8/8 [==============================] - 0s 44ms/step - loss: 6.3067e-05 - accuracy: 1.0000 - val_loss: 1.7834 - val_accuracy: 0.3750\n",
      "Epoch 36/100\n",
      "8/8 [==============================] - 0s 36ms/step - loss: 6.1364e-05 - accuracy: 1.0000 - val_loss: 1.7907 - val_accuracy: 0.3750\n",
      "Epoch 37/100\n",
      "8/8 [==============================] - 0s 35ms/step - loss: 5.8591e-05 - accuracy: 1.0000 - val_loss: 1.7922 - val_accuracy: 0.3750\n",
      "Epoch 38/100\n",
      "8/8 [==============================] - 0s 36ms/step - loss: 5.6142e-05 - accuracy: 1.0000 - val_loss: 1.7950 - val_accuracy: 0.3750\n",
      "Epoch 39/100\n",
      "8/8 [==============================] - 0s 33ms/step - loss: 5.4289e-05 - accuracy: 1.0000 - val_loss: 1.7973 - val_accuracy: 0.3750\n",
      "Epoch 40/100\n",
      "8/8 [==============================] - 0s 38ms/step - loss: 5.2077e-05 - accuracy: 1.0000 - val_loss: 1.7991 - val_accuracy: 0.3750\n",
      "Epoch 41/100\n",
      "8/8 [==============================] - 0s 39ms/step - loss: 5.0807e-05 - accuracy: 1.0000 - val_loss: 1.7969 - val_accuracy: 0.3750\n",
      "Epoch 42/100\n",
      "8/8 [==============================] - 0s 38ms/step - loss: 4.8473e-05 - accuracy: 1.0000 - val_loss: 1.8002 - val_accuracy: 0.3750\n",
      "Epoch 43/100\n",
      "8/8 [==============================] - 0s 37ms/step - loss: 4.6678e-05 - accuracy: 1.0000 - val_loss: 1.8004 - val_accuracy: 0.3750\n",
      "Epoch 44/100\n",
      "8/8 [==============================] - 0s 34ms/step - loss: 4.5235e-05 - accuracy: 1.0000 - val_loss: 1.8028 - val_accuracy: 0.3750\n",
      "Epoch 45/100\n",
      "8/8 [==============================] - 0s 34ms/step - loss: 4.3847e-05 - accuracy: 1.0000 - val_loss: 1.8060 - val_accuracy: 0.3750\n",
      "Epoch 46/100\n",
      "8/8 [==============================] - 0s 33ms/step - loss: 4.2370e-05 - accuracy: 1.0000 - val_loss: 1.8110 - val_accuracy: 0.3750\n",
      "Epoch 47/100\n",
      "8/8 [==============================] - 0s 33ms/step - loss: 4.1066e-05 - accuracy: 1.0000 - val_loss: 1.8147 - val_accuracy: 0.3750\n",
      "Epoch 48/100\n",
      "8/8 [==============================] - 0s 33ms/step - loss: 3.9864e-05 - accuracy: 1.0000 - val_loss: 1.8219 - val_accuracy: 0.3750\n",
      "Epoch 49/100\n",
      "8/8 [==============================] - 0s 34ms/step - loss: 3.8550e-05 - accuracy: 1.0000 - val_loss: 1.8262 - val_accuracy: 0.3750\n",
      "Epoch 50/100\n",
      "8/8 [==============================] - 0s 33ms/step - loss: 3.7553e-05 - accuracy: 1.0000 - val_loss: 1.8269 - val_accuracy: 0.3750\n",
      "Epoch 51/100\n",
      "8/8 [==============================] - ETA: 0s - loss: 3.6763e-05 - accuracy: 1.00 - 0s 33ms/step - loss: 3.6373e-05 - accuracy: 1.0000 - val_loss: 1.8299 - val_accuracy: 0.3750\n",
      "Epoch 52/100\n",
      "8/8 [==============================] - 0s 35ms/step - loss: 3.5267e-05 - accuracy: 1.0000 - val_loss: 1.8330 - val_accuracy: 0.3750\n",
      "Epoch 53/100\n",
      "8/8 [==============================] - 0s 32ms/step - loss: 3.4300e-05 - accuracy: 1.0000 - val_loss: 1.8360 - val_accuracy: 0.3750\n",
      "Epoch 54/100\n",
      "8/8 [==============================] - 0s 37ms/step - loss: 3.3360e-05 - accuracy: 1.0000 - val_loss: 1.8385 - val_accuracy: 0.3750\n",
      "Epoch 55/100\n",
      "8/8 [==============================] - 0s 33ms/step - loss: 3.2401e-05 - accuracy: 1.0000 - val_loss: 1.8397 - val_accuracy: 0.3750\n",
      "Epoch 56/100\n",
      "8/8 [==============================] - 0s 31ms/step - loss: 3.1516e-05 - accuracy: 1.0000 - val_loss: 1.8387 - val_accuracy: 0.3750\n",
      "Epoch 57/100\n"
     ]
    },
    {
     "name": "stdout",
     "output_type": "stream",
     "text": [
      "8/8 [==============================] - 0s 34ms/step - loss: 3.0642e-05 - accuracy: 1.0000 - val_loss: 1.8403 - val_accuracy: 0.3750\n",
      "Epoch 58/100\n",
      "8/8 [==============================] - 0s 36ms/step - loss: 2.9920e-05 - accuracy: 1.0000 - val_loss: 1.8419 - val_accuracy: 0.3750\n",
      "Epoch 59/100\n",
      "8/8 [==============================] - 0s 34ms/step - loss: 2.9096e-05 - accuracy: 1.0000 - val_loss: 1.8435 - val_accuracy: 0.3750\n",
      "Epoch 60/100\n",
      "8/8 [==============================] - 0s 40ms/step - loss: 2.8415e-05 - accuracy: 1.0000 - val_loss: 1.8476 - val_accuracy: 0.3750\n",
      "Epoch 61/100\n",
      "8/8 [==============================] - 0s 36ms/step - loss: 2.7666e-05 - accuracy: 1.0000 - val_loss: 1.8503 - val_accuracy: 0.3750\n",
      "Epoch 62/100\n",
      "8/8 [==============================] - 0s 36ms/step - loss: 2.6989e-05 - accuracy: 1.0000 - val_loss: 1.8516 - val_accuracy: 0.3750\n",
      "Epoch 63/100\n",
      "8/8 [==============================] - 0s 39ms/step - loss: 2.6324e-05 - accuracy: 1.0000 - val_loss: 1.8531 - val_accuracy: 0.3750\n",
      "Epoch 64/100\n",
      "8/8 [==============================] - 0s 38ms/step - loss: 2.5743e-05 - accuracy: 1.0000 - val_loss: 1.8548 - val_accuracy: 0.3750\n",
      "Epoch 65/100\n",
      "8/8 [==============================] - 0s 36ms/step - loss: 2.5068e-05 - accuracy: 1.0000 - val_loss: 1.8583 - val_accuracy: 0.3750\n",
      "Epoch 66/100\n",
      "8/8 [==============================] - 0s 34ms/step - loss: 2.4588e-05 - accuracy: 1.0000 - val_loss: 1.8616 - val_accuracy: 0.3750\n",
      "Epoch 67/100\n",
      "8/8 [==============================] - 0s 36ms/step - loss: 2.3961e-05 - accuracy: 1.0000 - val_loss: 1.8638 - val_accuracy: 0.3750\n",
      "Epoch 68/100\n",
      "8/8 [==============================] - 0s 36ms/step - loss: 2.3405e-05 - accuracy: 1.0000 - val_loss: 1.8665 - val_accuracy: 0.3750\n",
      "Epoch 69/100\n",
      "8/8 [==============================] - 0s 38ms/step - loss: 2.2821e-05 - accuracy: 1.0000 - val_loss: 1.8664 - val_accuracy: 0.3750\n",
      "Epoch 70/100\n",
      "8/8 [==============================] - 0s 36ms/step - loss: 2.2350e-05 - accuracy: 1.0000 - val_loss: 1.8673 - val_accuracy: 0.3750\n",
      "Epoch 71/100\n",
      "8/8 [==============================] - 0s 36ms/step - loss: 2.1842e-05 - accuracy: 1.0000 - val_loss: 1.8698 - val_accuracy: 0.3750\n",
      "Epoch 72/100\n",
      "8/8 [==============================] - 0s 40ms/step - loss: 2.1341e-05 - accuracy: 1.0000 - val_loss: 1.8739 - val_accuracy: 0.3750\n",
      "Epoch 73/100\n",
      "8/8 [==============================] - 0s 38ms/step - loss: 2.0880e-05 - accuracy: 1.0000 - val_loss: 1.8768 - val_accuracy: 0.3750\n",
      "Epoch 74/100\n",
      "8/8 [==============================] - 0s 38ms/step - loss: 2.0427e-05 - accuracy: 1.0000 - val_loss: 1.8785 - val_accuracy: 0.3750\n",
      "Epoch 75/100\n",
      "8/8 [==============================] - 0s 38ms/step - loss: 1.9961e-05 - accuracy: 1.0000 - val_loss: 1.8808 - val_accuracy: 0.3750\n",
      "Epoch 76/100\n",
      "8/8 [==============================] - 0s 38ms/step - loss: 1.9536e-05 - accuracy: 1.0000 - val_loss: 1.8833 - val_accuracy: 0.3750\n",
      "Epoch 77/100\n",
      "8/8 [==============================] - 0s 41ms/step - loss: 1.9177e-05 - accuracy: 1.0000 - val_loss: 1.8834 - val_accuracy: 0.3750\n",
      "Epoch 78/100\n",
      "8/8 [==============================] - 0s 35ms/step - loss: 1.8755e-05 - accuracy: 1.0000 - val_loss: 1.8857 - val_accuracy: 0.3750\n",
      "Epoch 79/100\n",
      "8/8 [==============================] - 0s 37ms/step - loss: 1.8368e-05 - accuracy: 1.0000 - val_loss: 1.8879 - val_accuracy: 0.3750\n",
      "Epoch 80/100\n",
      "8/8 [==============================] - 0s 37ms/step - loss: 1.7974e-05 - accuracy: 1.0000 - val_loss: 1.8890 - val_accuracy: 0.3625\n",
      "Epoch 81/100\n",
      "8/8 [==============================] - 0s 38ms/step - loss: 1.7646e-05 - accuracy: 1.0000 - val_loss: 1.8891 - val_accuracy: 0.3625\n",
      "Epoch 82/100\n",
      "8/8 [==============================] - 0s 37ms/step - loss: 1.7294e-05 - accuracy: 1.0000 - val_loss: 1.8907 - val_accuracy: 0.3625\n",
      "Epoch 83/100\n",
      "8/8 [==============================] - 0s 37ms/step - loss: 1.6996e-05 - accuracy: 1.0000 - val_loss: 1.8942 - val_accuracy: 0.3625\n",
      "Epoch 84/100\n",
      "8/8 [==============================] - 0s 37ms/step - loss: 1.6576e-05 - accuracy: 1.0000 - val_loss: 1.8955 - val_accuracy: 0.3625\n",
      "Epoch 85/100\n",
      "8/8 [==============================] - 0s 36ms/step - loss: 1.6284e-05 - accuracy: 1.0000 - val_loss: 1.8968 - val_accuracy: 0.3625\n",
      "Epoch 86/100\n",
      "8/8 [==============================] - 0s 39ms/step - loss: 1.5985e-05 - accuracy: 1.0000 - val_loss: 1.8967 - val_accuracy: 0.3625\n",
      "Epoch 87/100\n",
      "8/8 [==============================] - 0s 40ms/step - loss: 1.5690e-05 - accuracy: 1.0000 - val_loss: 1.8963 - val_accuracy: 0.3625\n",
      "Epoch 88/100\n",
      "8/8 [==============================] - 0s 40ms/step - loss: 1.5348e-05 - accuracy: 1.0000 - val_loss: 1.8986 - val_accuracy: 0.3625\n",
      "Epoch 89/100\n",
      "8/8 [==============================] - 0s 37ms/step - loss: 1.5067e-05 - accuracy: 1.0000 - val_loss: 1.9004 - val_accuracy: 0.3625\n",
      "Epoch 90/100\n",
      "8/8 [==============================] - 0s 39ms/step - loss: 1.4758e-05 - accuracy: 1.0000 - val_loss: 1.9028 - val_accuracy: 0.3625\n",
      "Epoch 91/100\n",
      "8/8 [==============================] - 0s 48ms/step - loss: 1.4500e-05 - accuracy: 1.0000 - val_loss: 1.9045 - val_accuracy: 0.3625\n",
      "Epoch 92/100\n",
      "8/8 [==============================] - 0s 36ms/step - loss: 1.4256e-05 - accuracy: 1.0000 - val_loss: 1.9060 - val_accuracy: 0.3625\n",
      "Epoch 93/100\n",
      "8/8 [==============================] - 0s 37ms/step - loss: 1.3979e-05 - accuracy: 1.0000 - val_loss: 1.9084 - val_accuracy: 0.3625\n",
      "Epoch 94/100\n",
      "8/8 [==============================] - 0s 39ms/step - loss: 1.3749e-05 - accuracy: 1.0000 - val_loss: 1.9107 - val_accuracy: 0.3625\n",
      "Epoch 95/100\n",
      "8/8 [==============================] - 0s 34ms/step - loss: 1.3501e-05 - accuracy: 1.0000 - val_loss: 1.9108 - val_accuracy: 0.3625\n",
      "Epoch 96/100\n",
      "8/8 [==============================] - 0s 35ms/step - loss: 1.3312e-05 - accuracy: 1.0000 - val_loss: 1.9108 - val_accuracy: 0.3625\n",
      "Epoch 97/100\n",
      "8/8 [==============================] - 0s 36ms/step - loss: 1.3041e-05 - accuracy: 1.0000 - val_loss: 1.9129 - val_accuracy: 0.3625\n",
      "Epoch 98/100\n",
      "8/8 [==============================] - 0s 37ms/step - loss: 1.2799e-05 - accuracy: 1.0000 - val_loss: 1.9153 - val_accuracy: 0.3625\n",
      "Epoch 99/100\n",
      "8/8 [==============================] - 0s 39ms/step - loss: 1.2578e-05 - accuracy: 1.0000 - val_loss: 1.9175 - val_accuracy: 0.3625\n",
      "Epoch 100/100\n",
      "8/8 [==============================] - 0s 39ms/step - loss: 1.2375e-05 - accuracy: 1.0000 - val_loss: 1.9181 - val_accuracy: 0.3625\n",
      "Time taken for Training and Classification: 29.806469678878784s\n"
     ]
    }
   ],
   "source": [
    "import time\n",
    "StartTime = time.time()\n",
    "history = model.fit(X_train, train_y,\n",
    "                    batch_size=32,\n",
    "                    epochs=100,\n",
    "                    validation_data=(X_test, test_y))\n",
    "EndTime = time.time()\n",
    "print(f\"Time taken for Training and Classification: {EndTime - StartTime}s\")"
   ]
  },
  {
   "cell_type": "code",
   "execution_count": 22,
   "id": "8757c493",
   "metadata": {
    "scrolled": true
   },
   "outputs": [
    {
     "name": "stdout",
     "output_type": "stream",
     "text": [
      "Training Accuracy: 1.0000\n",
      "Testing Accuracy:  0.3625\n"
     ]
    }
   ],
   "source": [
    "loss, accuracy = model.evaluate(X_train, train_y, verbose=False)\n",
    "print(\"Training Accuracy: {:.4f}\".format(accuracy))\n",
    "loss, accuracy = model.evaluate(X_test, test_y, verbose=False)\n",
    "print(\"Testing Accuracy:  {:.4f}\".format(accuracy))"
   ]
  },
  {
   "cell_type": "code",
   "execution_count": 23,
   "id": "bc77ea9f",
   "metadata": {
    "scrolled": true
   },
   "outputs": [
    {
     "data": {
      "image/png": "[encoded data removed]",
      "text/plain": [
       "<Figure size 432x288 with 1 Axes>"
      ]
     },
     "metadata": {
      "needs_background": "light"
     },
     "output_type": "display_data"
    },
    {
     "data": {
      "image/png": "[encoded data removed]",
      "text/plain": [
       "<Figure size 432x288 with 1 Axes>"
      ]
     },
     "metadata": {
      "needs_background": "light"
     },
     "output_type": "display_data"
    }
   ],
   "source": [
    "def plot_graphs(history, string):\n",
    "    plt.plot(history.history[string])\n",
    "    plt.plot(history.history['val_'+string])\n",
    "    plt.xlabel(\"Epochs\")\n",
    "    plt.ylabel(string)\n",
    "    plt.legend([string, 'val_'+string])\n",
    "    plt.show()\n",
    "\n",
    "plot_graphs(history, \"accuracy\")\n",
    "plot_graphs(history, \"loss\")"
   ]
  }
 ],
 "metadata": {
  "kernelspec": {
   "display_name": "Python 3 (ipykernel)",
   "language": "python",
   "name": "python3"
  },
  "language_info": {
   "codemirror_mode": {
    "name": "ipython",
    "version": 3
   },
   "file_extension": ".py",
   "mimetype": "text/x-python",
   "name": "python",
   "nbconvert_exporter": "python",
   "pygments_lexer": "ipython3",
   "version": "3.8.8"
  }
 },
 "nbformat": 4,
 "nbformat_minor": 5
}
