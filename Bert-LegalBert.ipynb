{
 "cells": [
  {
   "cell_type": "code",
   "execution_count": 1,
   "metadata": {
    "colab": {
     "base_uri": "https://localhost:8080/"
    },
    "id": "nudsOH01Qv8X",
    "outputId": "d48ffb55-2fc2-469d-ee35-163fffbae6a6"
   },
   "outputs": [
    {
     "name": "stdout",
     "output_type": "stream",
     "text": [
      "   Id                                           Judgment  Judgment Status\n",
      "0   1  appeal judgment decre bombay high court stone ...                1\n",
      "1   2  applic articl 32 1 constitut enforc applic fun...                2\n",
      "2   3  appeal judgment high court hyderabad articl 37...                0\n",
      "3   4  appeal articl 3744 constitut judgment decre hi...                0\n",
      "4   5  petit art 136 constitut pray special leav appe...                3\n"
     ]
    }
   ],
   "source": [
    "import io\n",
    "import pandas as pd\n",
    "df = pd.read_csv('/Users/inakolluvishnusai/tensorflow/Sarayu/New Data 1.csv') # Dataset is now stored in a Pandas Dataframe\n",
    "\n",
    "print(df.head())"
   ]
  },
  {
   "cell_type": "code",
   "execution_count": 2,
   "metadata": {
    "id": "9L6Ng_guT6PG"
   },
   "outputs": [],
   "source": [
    "sentences = df[['Judgment','Judgment Status']]\n",
    "\n",
    "from sklearn.model_selection import train_test_split\n",
    "\n",
    "df_train, df_test = train_test_split(sentences,  test_size=0.25, random_state=42)"
   ]
  },
  {
   "cell_type": "code",
   "execution_count": 3,
   "metadata": {
    "id": "DwZSnA-HRF6d"
   },
   "outputs": [],
   "source": [
    "from tensorflow.keras.utils import to_categorical\n",
    "\n",
    "y_train = to_categorical(df_train['Judgment Status'])\n",
    "y_test = to_categorical(df_test['Judgment Status'])"
   ]
  },
  {
   "cell_type": "code",
   "execution_count": 4,
   "metadata": {
    "colab": {
     "base_uri": "https://localhost:8080/"
    },
    "id": "B5vcROCKR6xc",
    "outputId": "af720141-c7cb-455a-85a0-9c3ec9e5009c"
   },
   "outputs": [
    {
     "name": "stdout",
     "output_type": "stream",
     "text": [
      "Metal device set to: Apple M1\n"
     ]
    },
    {
     "name": "stderr",
     "output_type": "stream",
     "text": [
      "2023-06-06 22:26:31.913734: I tensorflow/core/common_runtime/pluggable_device/pluggable_device_factory.cc:306] Could not identify NUMA node of platform GPU ID 0, defaulting to 0. Your kernel may not have been built with NUMA support.\n",
      "2023-06-06 22:26:31.913840: I tensorflow/core/common_runtime/pluggable_device/pluggable_device_factory.cc:272] Created TensorFlow device (/job:localhost/replica:0/task:0/device:GPU:0 with 0 MB memory) -> physical PluggableDevice (device: 0, name: METAL, pci bus id: <undefined>)\n",
      "All model checkpoint layers were used when initializing TFBertForSequenceClassification.\n",
      "\n",
      "Some layers of TFBertForSequenceClassification were not initialized from the model checkpoint at nlpaueb/legal-bert-base-uncased and are newly initialized: ['classifier']\n",
      "You should probably TRAIN this model on a down-stream task to be able to use it for predictions and inference.\n"
     ]
    }
   ],
   "source": [
    "import transformers\n",
    "from transformers import AutoTokenizer,TFAutoModelForSequenceClassification\n",
    "\n",
    "tokenizer = AutoTokenizer.from_pretrained('bert-base-cased')\n",
    "legalbert_model = TFAutoModelForSequenceClassification.from_pretrained('nlpaueb/legal-bert-base-uncased')"
   ]
  },
  {
   "cell_type": "code",
   "execution_count": 5,
   "metadata": {
    "id": "3AboxSZiTqzn"
   },
   "outputs": [],
   "source": [
    "# Tokenize the input (takes some time) \n",
    "# here tokenizer using from bert-base-cased\n",
    "x_train = tokenizer(\n",
    "    text=df_train.Judgment.tolist(),\n",
    "    add_special_tokens=True,\n",
    "    max_length=100,\n",
    "    truncation=True,\n",
    "    padding=True, \n",
    "    return_tensors='tf',\n",
    "    return_token_type_ids = False,\n",
    "    return_attention_mask = True,\n",
    "    verbose = True)\n",
    "x_test = tokenizer(\n",
    "    text=df_test.Judgment.tolist(),\n",
    "    add_special_tokens=True,\n",
    "    max_length=100,\n",
    "    truncation=True,\n",
    "    padding=True, \n",
    "    return_tensors='tf',\n",
    "    return_token_type_ids = False,\n",
    "    return_attention_mask = True,\n",
    "    verbose = True)"
   ]
  },
  {
   "cell_type": "code",
   "execution_count": 6,
   "metadata": {
    "id": "r4HZhFp4Uq9n"
   },
   "outputs": [],
   "source": [
    "input_ids = x_train['input_ids']\n",
    "attention_mask = x_train['attention_mask']"
   ]
  },
  {
   "cell_type": "code",
   "execution_count": 7,
   "metadata": {
    "id": "L2IvbTtwUkJF"
   },
   "outputs": [],
   "source": [
    "import tensorflow as tf\n",
    "from tensorflow.keras.optimizers import Adam\n",
    "from tensorflow.keras.callbacks import EarlyStopping\n",
    "from tensorflow.keras.initializers import TruncatedNormal\n",
    "from tensorflow.keras.losses import CategoricalCrossentropy\n",
    "from tensorflow.keras.metrics import CategoricalAccuracy\n",
    "from tensorflow.keras.utils import to_categorical\n",
    "from tensorflow.keras.layers import Input, Dense"
   ]
  },
  {
   "cell_type": "code",
   "execution_count": 8,
   "metadata": {
    "id": "sLM8on-sUwYv"
   },
   "outputs": [],
   "source": [
    "max_len = 100\n",
    "input_ids = Input(shape=(max_len,), dtype=tf.int32, name=\"input_ids\")\n",
    "input_mask = Input(shape=(max_len,), dtype=tf.int32, name=\"attention_mask\")\n",
    "embeddings = legalbert_model(input_ids, attention_mask = input_mask)[0]\n",
    "out = Dense(128, activation='relu')(embeddings)\n",
    "out = tf.keras.layers.Dropout(0.1)(out)\n",
    "out = Dense(32,activation = 'relu')(out)\n",
    "y = Dense(4,activation = 'sigmoid')(out)\n",
    "model = tf.keras.Model(inputs=[input_ids, input_mask], outputs=y)\n",
    "model.layers[2].trainable = True"
   ]
  },
  {
   "cell_type": "code",
   "execution_count": 9,
   "metadata": {
    "id": "av27Jru2U2ho"
   },
   "outputs": [],
   "source": [
    "optimizer = tf.keras.optimizers.legacy.Adam(\n",
    "    learning_rate=5e-05, # this learning rate is for bert model , taken from huggingface website \n",
    "    epsilon=1e-08,\n",
    "    decay=0.01,\n",
    "    clipnorm=1.0)\n",
    "\n",
    "# Set loss and metrics\n",
    "loss =CategoricalCrossentropy(from_logits = True)\n",
    "metric = CategoricalAccuracy('balanced_accuracy')\n",
    "\n",
    "# Compile the model\n",
    "model.compile(\n",
    "    optimizer = optimizer,\n",
    "    loss=loss, \n",
    "    metrics = metric)"
   ]
  },
  {
   "cell_type": "code",
   "execution_count": 10,
   "metadata": {
    "colab": {
     "base_uri": "https://localhost:8080/"
    },
    "id": "VU7FLjXeVC6j",
    "outputId": "f01ba20f-1ead-4d5d-96c7-e61694158afc"
   },
   "outputs": [
    {
     "name": "stdout",
     "output_type": "stream",
     "text": [
      "Epoch 1/15\n"
     ]
    },
    {
     "name": "stderr",
     "output_type": "stream",
     "text": [
      "2023-06-06 22:26:36.253812: W tensorflow/core/platform/profile_utils/cpu_utils.cc:128] Failed to get CPU frequency: 0 Hz\n",
      "/Users/inakolluvishnusai/tensorflow/env/lib/python3.8/site-packages/keras/backend.py:5531: UserWarning: \"`categorical_crossentropy` received `from_logits=True`, but the `output` argument was produced by a Softmax activation and thus does not represent logits. Was this intended?\n",
      "  output, from_logits = _get_logits(\n",
      "2023-06-06 22:26:42.301841: I tensorflow/core/grappler/optimizers/custom_graph_optimizer_registry.cc:114] Plugin optimizer for device_type GPU is enabled.\n"
     ]
    },
    {
     "name": "stdout",
     "output_type": "stream",
     "text": [
      "9/9 [==============================] - ETA: 0s - loss: 1.3834 - balanced_accuracy: 0.2924"
     ]
    },
    {
     "name": "stderr",
     "output_type": "stream",
     "text": [
      "2023-06-06 22:27:40.276275: I tensorflow/core/grappler/optimizers/custom_graph_optimizer_registry.cc:114] Plugin optimizer for device_type GPU is enabled.\n"
     ]
    },
    {
     "name": "stdout",
     "output_type": "stream",
     "text": [
      "9/9 [==============================] - 78s 6s/step - loss: 1.3834 - balanced_accuracy: 0.2924 - val_loss: 1.3809 - val_balanced_accuracy: 0.3656\n",
      "Epoch 2/15\n",
      "9/9 [==============================] - 35s 4s/step - loss: 1.3741 - balanced_accuracy: 0.3394 - val_loss: 1.3764 - val_balanced_accuracy: 0.3656\n",
      "Epoch 3/15\n",
      "9/9 [==============================] - 35s 4s/step - loss: 1.3682 - balanced_accuracy: 0.3394 - val_loss: 1.3766 - val_balanced_accuracy: 0.3656\n",
      "Epoch 4/15\n",
      "9/9 [==============================] - 38s 4s/step - loss: 1.3663 - balanced_accuracy: 0.3466 - val_loss: 1.3763 - val_balanced_accuracy: 0.3656\n",
      "Epoch 5/15\n",
      "9/9 [==============================] - 40s 5s/step - loss: 1.3580 - balanced_accuracy: 0.3646 - val_loss: 1.3726 - val_balanced_accuracy: 0.3656\n",
      "Epoch 6/15\n",
      "9/9 [==============================] - 39s 4s/step - loss: 1.3405 - balanced_accuracy: 0.3394 - val_loss: 1.3730 - val_balanced_accuracy: 0.3548\n",
      "Epoch 7/15\n",
      "9/9 [==============================] - 36s 4s/step - loss: 1.3099 - balanced_accuracy: 0.3610 - val_loss: 1.3822 - val_balanced_accuracy: 0.3011\n",
      "Epoch 8/15\n",
      "9/9 [==============================] - 33s 4s/step - loss: 1.2900 - balanced_accuracy: 0.4079 - val_loss: 1.3656 - val_balanced_accuracy: 0.3871\n",
      "Epoch 9/15\n",
      "9/9 [==============================] - 31s 3s/step - loss: 1.2454 - balanced_accuracy: 0.4079 - val_loss: 1.3700 - val_balanced_accuracy: 0.3763\n",
      "Epoch 10/15\n",
      "9/9 [==============================] - 29s 3s/step - loss: 1.2351 - balanced_accuracy: 0.4729 - val_loss: 1.3705 - val_balanced_accuracy: 0.3333\n",
      "Epoch 11/15\n",
      "9/9 [==============================] - 31s 3s/step - loss: 1.2109 - balanced_accuracy: 0.4440 - val_loss: 1.4260 - val_balanced_accuracy: 0.3226\n",
      "Epoch 12/15\n",
      "9/9 [==============================] - 30s 3s/step - loss: 1.1795 - balanced_accuracy: 0.4585 - val_loss: 1.4470 - val_balanced_accuracy: 0.3333\n",
      "Epoch 13/15\n",
      "9/9 [==============================] - 30s 3s/step - loss: 1.1493 - balanced_accuracy: 0.5271 - val_loss: 1.4388 - val_balanced_accuracy: 0.3118\n",
      "Epoch 14/15\n",
      "9/9 [==============================] - 31s 3s/step - loss: 1.1280 - balanced_accuracy: 0.5126 - val_loss: 1.3569 - val_balanced_accuracy: 0.3441\n",
      "Epoch 15/15\n",
      "9/9 [==============================] - 39s 4s/step - loss: 1.1328 - balanced_accuracy: 0.5054 - val_loss: 1.3362 - val_balanced_accuracy: 0.3763\n"
     ]
    }
   ],
   "source": [
    "train_history = model.fit(\n",
    "    x ={'input_ids':x_train['input_ids'],'attention_mask':x_train['attention_mask']} ,\n",
    "    y = y_train,\n",
    "    validation_data = (\n",
    "    {'input_ids':x_test['input_ids'],'attention_mask':x_test['attention_mask']}, y_test\n",
    "    ),\n",
    "  epochs=15,\n",
    "    batch_size=32\n",
    ")"
   ]
  },
  {
   "cell_type": "code",
   "execution_count": 11,
   "metadata": {
    "colab": {
     "base_uri": "https://localhost:8080/"
    },
    "id": "fgvC4ru7VVMV",
    "outputId": "511b0cb4-dc29-4cd7-c5ed-c37548543cda"
   },
   "outputs": [
    {
     "name": "stderr",
     "output_type": "stream",
     "text": [
      "2023-06-06 22:35:52.710698: I tensorflow/core/grappler/optimizers/custom_graph_optimizer_registry.cc:114] Plugin optimizer for device_type GPU is enabled.\n"
     ]
    },
    {
     "name": "stdout",
     "output_type": "stream",
     "text": [
      "3/3 [==============================] - 17s 4s/step\n"
     ]
    },
    {
     "data": {
      "text/plain": [
       "array([0.5545927, 0.5295741, 0.4954029, 0.5102699], dtype=float32)"
      ]
     },
     "execution_count": 11,
     "metadata": {},
     "output_type": "execute_result"
    }
   ],
   "source": [
    "predicted_raw = model.predict({'input_ids':x_test['input_ids'],'attention_mask':x_test['attention_mask']})\n",
    "predicted_raw[0]"
   ]
  },
  {
   "cell_type": "code",
   "execution_count": 12,
   "metadata": {
    "id": "uamfKdPmVWsd"
   },
   "outputs": [],
   "source": [
    "import numpy as np\n",
    "\n",
    "y_predicted = np.argmax(predicted_raw, axis = 1)\n",
    "y_true = df_test['Judgment Status']"
   ]
  },
  {
   "cell_type": "code",
   "execution_count": 13,
   "metadata": {
    "colab": {
     "base_uri": "https://localhost:8080/"
    },
    "id": "XBQIN8f0VaN4",
    "outputId": "df13b7d2-0ed1-4bce-a486-923dfc6e7e50"
   },
   "outputs": [
    {
     "name": "stdout",
     "output_type": "stream",
     "text": [
      "              precision    recall  f1-score   support\n",
      "\n",
      "           0       0.35      0.73      0.47        30\n",
      "           1       0.43      0.38      0.41        34\n",
      "           2       0.00      0.00      0.00        15\n",
      "           3       0.00      0.00      0.00        14\n",
      "\n",
      "    accuracy                           0.38        93\n",
      "   macro avg       0.20      0.28      0.22        93\n",
      "weighted avg       0.27      0.38      0.30        93\n",
      "\n",
      "0.3763440860215054\n"
     ]
    },
    {
     "name": "stderr",
     "output_type": "stream",
     "text": [
      "/Users/inakolluvishnusai/tensorflow/env/lib/python3.8/site-packages/sklearn/metrics/_classification.py:1334: UndefinedMetricWarning: Precision and F-score are ill-defined and being set to 0.0 in labels with no predicted samples. Use `zero_division` parameter to control this behavior.\n",
      "  _warn_prf(average, modifier, msg_start, len(result))\n",
      "/Users/inakolluvishnusai/tensorflow/env/lib/python3.8/site-packages/sklearn/metrics/_classification.py:1334: UndefinedMetricWarning: Precision and F-score are ill-defined and being set to 0.0 in labels with no predicted samples. Use `zero_division` parameter to control this behavior.\n",
      "  _warn_prf(average, modifier, msg_start, len(result))\n",
      "/Users/inakolluvishnusai/tensorflow/env/lib/python3.8/site-packages/sklearn/metrics/_classification.py:1334: UndefinedMetricWarning: Precision and F-score are ill-defined and being set to 0.0 in labels with no predicted samples. Use `zero_division` parameter to control this behavior.\n",
      "  _warn_prf(average, modifier, msg_start, len(result))\n"
     ]
    }
   ],
   "source": [
    "from sklearn.metrics import classification_report, accuracy_score\n",
    "print(classification_report(y_true, y_predicted))\n",
    "\n",
    "print(accuracy_score(y_true,y_predicted))"
   ]
  },
  {
   "cell_type": "code",
   "execution_count": 14,
   "metadata": {
    "colab": {
     "base_uri": "https://localhost:8080/"
    },
    "id": "xqXu6aBTxObs",
    "outputId": "be83ca4f-41f3-4fbe-aa91-b1c112d14925"
   },
   "outputs": [
    {
     "name": "stdout",
     "output_type": "stream",
     "text": [
      "Training Accuracy: 0.5848\n"
     ]
    }
   ],
   "source": [
    "x_train ={'input_ids':x_train['input_ids'],'attention_mask':x_train['attention_mask']}\n",
    "\n",
    "loss, accuracy = model.evaluate(x_train, y_train, verbose=False)\n",
    "print(\"Training Accuracy: {:.4f}\".format(accuracy))"
   ]
  },
  {
   "cell_type": "code",
   "execution_count": 15,
   "metadata": {
    "colab": {
     "base_uri": "https://localhost:8080/"
    },
    "id": "eei7MkpkyEPH",
    "outputId": "29083a64-b9dd-473d-adf9-43b282d95369"
   },
   "outputs": [
    {
     "name": "stdout",
     "output_type": "stream",
     "text": [
      "Testing Accuracy:  0.3763\n"
     ]
    }
   ],
   "source": [
    "x_test = {'input_ids':x_test['input_ids'],'attention_mask':x_test['attention_mask']}\n",
    "\n",
    "loss, accuracy = model.evaluate(x_test, y_test, verbose=False)\n",
    "print(\"Testing Accuracy:  {:.4f}\".format(accuracy))"
   ]
  },
  {
   "cell_type": "code",
   "execution_count": 16,
   "metadata": {
    "colab": {
     "base_uri": "https://localhost:8080/",
     "height": 881
    },
    "id": "eXJnmjSMufc9",
    "outputId": "7549f12f-7e19-4f35-d244-1c02d8fb13b8",
    "scrolled": false
   },
   "outputs": [
    {
     "data": {
      "image/png": "[encoded data removed]",
      "text/plain": [
       "<Figure size 640x480 with 1 Axes>"
      ]
     },
     "metadata": {},
     "output_type": "display_data"
    },
    {
     "data": {
      "image/png": "[encoded data removed]",
      "text/plain": [
       "<Figure size 640x480 with 1 Axes>"
      ]
     },
     "metadata": {},
     "output_type": "display_data"
    }
   ],
   "source": [
    "import matplotlib.pyplot as plt\n",
    "%matplotlib inline\n",
    "\n",
    "def plot_graphs(history, string):\n",
    "    plt.plot(history.history[string])\n",
    "    plt.plot(history.history['val_'+string])\n",
    "    plt.xlabel(\"Epochs\")\n",
    "    plt.ylabel(string)\n",
    "    plt.legend([string, 'val_'+string])\n",
    "    plt.show()\n",
    "\n",
    "plot_graphs(train_history, \"balanced_accuracy\")\n",
    "plot_graphs(train_history, \"loss\")"
   ]
  },
  {
   "cell_type": "code",
   "execution_count": 18,
   "metadata": {},
   "outputs": [],
   "source": [
    "model.save(\"BERT-LegalBert.h5\")"
   ]
  },
  {
   "cell_type": "code",
   "execution_count": null,
   "metadata": {},
   "outputs": [],
   "source": []
  }
 ],
 "metadata": {
  "colab": {
   "provenance": []
  },
  "kernelspec": {
   "display_name": "Python 3 (ipykernel)",
   "language": "python",
   "name": "python3"
  },
  "language_info": {
   "codemirror_mode": {
    "name": "ipython",
    "version": 3
   },
   "file_extension": ".py",
   "mimetype": "text/x-python",
   "name": "python",
   "nbconvert_exporter": "python",
   "pygments_lexer": "ipython3",
   "version": "3.9.13"
  }
 },
 "nbformat": 4,
 "nbformat_minor": 1
}
